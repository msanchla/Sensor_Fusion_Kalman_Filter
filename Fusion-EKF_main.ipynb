import numpy as np


X = np.array([0,0,0,0])
ground_truth = np.zeros([4,1])
RMSE = np.zeros([4,1])

